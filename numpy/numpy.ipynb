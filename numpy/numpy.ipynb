{
 "cells": [
  {
   "cell_type": "code",
   "execution_count": 11,
   "metadata": {},
   "outputs": [
    {
     "name": "stdout",
     "output_type": "stream",
     "text": [
      "1.4142135623730951\n",
      "3.141592653589793\n",
      "0.0\n",
      "-1.0\n",
      "[0.02106401 0.02853728 0.9248421  0.51604964 0.69788659]\n",
      "<class 'numpy.ndarray'>\n",
      "[0 4 5 5 5 0 5 5 3 0]\n",
      "[7 9 3 4 5 1]\n",
      "[3 2 5 2 1 5 3 2 2 5]\n"
     ]
    },
    {
     "data": {
      "image/png": "[encoded data removed]",
      "text/plain": [
       "<Figure size 432x288 with 1 Axes>"
      ]
     },
     "metadata": {
      "needs_background": "light"
     },
     "output_type": "display_data"
    }
   ],
   "source": [
    "import numpy as np\n",
    "print(np.sqrt(2))\n",
    "print(np.pi)\n",
    "print(np.sin(0))\n",
    "print(np.cos(np.pi))\n",
    "\n",
    "a = np.random.rand(5)\n",
    "print(a)\n",
    "print(type(a))   # numpy.ndarry\n",
    "\n",
    "print(np.random.choice(6,10))   # 0~5 사이의 숫자 랜덤하게 10번 선택\n",
    "\n",
    "print(np.random.choice(10,6, replace=False))   # 한 번 뽑은 숫자 다시 뽑지 못함\n",
    "\n",
    "print(np.random.choice(6,10, p=[0.1, 0.2, 0.3, 0.2, 0.1, 0.1]))   # 확률 지정 \n",
    "\n",
    "\n",
    "import matplotlib.pyplot as plt\n",
    "dice = np.random.choice(6,10)\n",
    "plt.hist(dice, bins=6)\n",
    "plt.show()\n",
    "\n"
   ]
  },
  {
   "cell_type": "code",
   "execution_count": 13,
   "metadata": {},
   "outputs": [
    {
     "data": {
      "image/png": "[encoded data removed]",
      "text/plain": [
       "<Figure size 432x288 with 1 Axes>"
      ]
     },
     "metadata": {
      "needs_background": "light"
     },
     "output_type": "display_data"
    }
   ],
   "source": [
    "import matplotlib.pyplot as plt\n",
    "import numpy as np\n",
    "dice = np.random.choice(6, 1000000, p=[0.1,0.2,0.3,0.2,0.1,0.1])\n",
    "plt.hist(dice, bins=6)\n",
    "plt.show()"
   ]
  }
 ],
 "metadata": {
  "kernelspec": {
   "display_name": "Python 3",
   "language": "python",
   "name": "python3"
  },
  "language_info": {
   "codemirror_mode": {
    "name": "ipython",
    "version": 3
   },
   "file_extension": ".py",
   "mimetype": "text/x-python",
   "name": "python",
   "nbconvert_exporter": "python",
   "pygments_lexer": "ipython3",
   "version": "3.8.5"
  }
 },
 "nbformat": 4,
 "nbformat_minor": 4
}
