{
 "cells": [
  {
   "cell_type": "code",
   "execution_count": 9,
   "metadata": {},
   "outputs": [
    {
     "name": "stdout",
     "output_type": "stream",
     "text": [
      "마곡나루(서울식물원) 공항철도 1호선 94.62\n"
     ]
    }
   ],
   "source": [
    "# 유임 승차 비율이 가장 높은 역 찾기\n",
    "\n",
    "import csv\n",
    "f = open('subwayfee.csv')\n",
    "data = csv.reader(f)\n",
    "next(data)\n",
    "\n",
    "max = 0\n",
    "rate = 0   # 유임승차인원 / 전체 (유임+무임) 인원\n",
    "max_station = ''\n",
    "\n",
    "for row in data :\n",
    "    for i in range(4,8) :\n",
    "        row[i] = int(row[i])\n",
    "    if row[6] != 0 and (row[4]+row[6]) > 100000 :\n",
    "        rate = row[4] / (row[4] + row[6])\n",
    "    if rate > max :\n",
    "        max = rate\n",
    "        max_station = row[3] + ' ' + row[1]\n",
    "\n",
    "print(max_station, round(max*100,2))   # round(rate,2) - rate값을 소수점 둘째 자리까지 반올림"
   ]
  }
 ],
 "metadata": {
  "kernelspec": {
   "display_name": "Python 3",
   "language": "python",
   "name": "python3"
  },
  "language_info": {
   "codemirror_mode": {
    "name": "ipython",
    "version": 3
   },
   "file_extension": ".py",
   "mimetype": "text/x-python",
   "name": "python",
   "nbconvert_exporter": "python",
   "pygments_lexer": "ipython3",
   "version": "3.8.5"
  }
 },
 "nbformat": 4,
 "nbformat_minor": 4
}
