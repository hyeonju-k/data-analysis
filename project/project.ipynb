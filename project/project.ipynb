{
 "cells": [
  {
   "cell_type": "code",
   "execution_count": null,
   "metadata": {},
   "outputs": [],
   "source": [
    "# project - 가장 비슷한 인구 구조를 가진 지역 찾기\n",
    "\n",
    "import csv\n",
    "import numpy as np\n",
    "import matplotlib.pyplot as plt\n",
    "\n",
    "# 데이터 읽어오기\n",
    "f = open('age.csv')\n",
    "data = csv.reader(f)\n",
    "next(data)   # 헤더 부분 제외\n",
    "data = list(data)\n",
    "\n",
    "\n",
    "# 궁금한 지역 이름 입력받기\n",
    "name = input('인구 구조가 알고 싶은 지역의 이름(읍면동 단위)을 입력해주세요 : ')\n",
    "mn = 1\n",
    "result_name = ''\n",
    "result = 0\n",
    "\n",
    "# 궁금한 지역 인구 구조 저장\n",
    "for row in data :\n",
    "    if name in row[0] : # 입력받은 지역 이름이 포함된 행 찾기\n",
    "        home = np.array(row[3:], dtype=int)/int(row[2])\n",
    "        \n",
    "# 궁금한 지역의 인구 구조와 가장 비슷한 인구 구조 가진 지역 찾기\n",
    "for row in data :\n",
    "    away = np.array(row[3:], dtype=int)/int(row[2])\n",
    "    s = np.sum((home-away)**2)\n",
    "    if s<mn and name not in row[0] :\n",
    "        mn = s\n",
    "        result_name = row[0]\n",
    "        result = away\n",
    "        \n",
    "# 시각화\n",
    "plt.style.use('ggplot')\n",
    "plt.figure(figsize=(10,5), dpi=300)\n",
    "plt.rc('font', family='Malgun Gothic')\n",
    "plt.title(name+' 지역과 가장 비슷한 인구 구조를 가진 지역')\n",
    "plt.plot(home, label=name)\n",
    "plt.plot(result, label=result_name)\n",
    "plt.legend()\n",
    "plt.show()"
   ]
  }
 ],
 "metadata": {
  "kernelspec": {
   "display_name": "Python 3",
   "language": "python",
   "name": "python3"
  },
  "language_info": {
   "codemirror_mode": {
    "name": "ipython",
    "version": 3
   },
   "file_extension": ".py",
   "mimetype": "text/x-python",
   "name": "python",
   "nbconvert_exporter": "python",
   "pygments_lexer": "ipython3",
   "version": "3.8.5"
  }
 },
 "nbformat": 4,
 "nbformat_minor": 4
}
