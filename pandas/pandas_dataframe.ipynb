{
 "cells": [
  {
   "cell_type": "code",
   "execution_count": 10,
   "metadata": {},
   "outputs": [
    {
     "data": {
      "text/html": [
       "<div>\n",
       "<style scoped>\n",
       "    .dataframe tbody tr th:only-of-type {\n",
       "        vertical-align: middle;\n",
       "    }\n",
       "\n",
       "    .dataframe tbody tr th {\n",
       "        vertical-align: top;\n",
       "    }\n",
       "\n",
       "    .dataframe thead th {\n",
       "        text-align: right;\n",
       "    }\n",
       "</style>\n",
       "<table border=\"1\" class=\"dataframe\">\n",
       "  <thead>\n",
       "    <tr style=\"text-align: right;\">\n",
       "      <th></th>\n",
       "      <th>A</th>\n",
       "      <th>B</th>\n",
       "      <th>C</th>\n",
       "      <th>D</th>\n",
       "      <th>E</th>\n",
       "    </tr>\n",
       "  </thead>\n",
       "  <tbody>\n",
       "    <tr>\n",
       "      <th>2000-01-01</th>\n",
       "      <td>0.0</td>\n",
       "      <td>1.055841</td>\n",
       "      <td>1.0</td>\n",
       "      <td>0.020675</td>\n",
       "      <td>6.301435</td>\n",
       "    </tr>\n",
       "    <tr>\n",
       "      <th>2000-01-02</th>\n",
       "      <td>-0.0</td>\n",
       "      <td>-8.948066</td>\n",
       "      <td>1.0</td>\n",
       "      <td>-3.307456</td>\n",
       "      <td>-29.588092</td>\n",
       "    </tr>\n",
       "    <tr>\n",
       "      <th>2000-01-03</th>\n",
       "      <td>-0.0</td>\n",
       "      <td>1.106380</td>\n",
       "      <td>1.0</td>\n",
       "      <td>-6.381615</td>\n",
       "      <td>-20.481784</td>\n",
       "    </tr>\n",
       "    <tr>\n",
       "      <th>2000-01-04</th>\n",
       "      <td>0.0</td>\n",
       "      <td>0.589370</td>\n",
       "      <td>1.0</td>\n",
       "      <td>0.411638</td>\n",
       "      <td>9.622100</td>\n",
       "    </tr>\n",
       "    <tr>\n",
       "      <th>2000-01-05</th>\n",
       "      <td>-0.0</td>\n",
       "      <td>4.905367</td>\n",
       "      <td>1.0</td>\n",
       "      <td>-43.911159</td>\n",
       "      <td>-55.713183</td>\n",
       "    </tr>\n",
       "  </tbody>\n",
       "</table>\n",
       "</div>"
      ],
      "text/plain": [
       "              A         B    C          D          E\n",
       "2000-01-01  0.0  1.055841  1.0   0.020675   6.301435\n",
       "2000-01-02 -0.0 -8.948066  1.0  -3.307456 -29.588092\n",
       "2000-01-03 -0.0  1.106380  1.0  -6.381615 -20.481784\n",
       "2000-01-04  0.0  0.589370  1.0   0.411638   9.622100\n",
       "2000-01-05 -0.0  4.905367  1.0 -43.911159 -55.713183"
      ]
     },
     "execution_count": 10,
     "metadata": {},
     "output_type": "execute_result"
    }
   ],
   "source": [
    "# DataFrame - index (행), column (열)\n",
    "\n",
    "import numpy as np\n",
    "import pandas as pd\n",
    "index = pd.date_range('1/1/2000', periods=8)\n",
    "df = pd.DataFrame(np.random.rand(8,3), index=index, columns=list('ABC'))\n",
    "df2 = df[df['B']>0.4]   # B열 선택, mask\n",
    "df2\n",
    "\n",
    "df['D'] = df['A']/df['B']   # 행 방향 축 연산\n",
    "df['E'] = np.sum(df, axis=1)   # 행 우선 계산 값 E에 저장\n",
    "df = df.sub(df['A'], axis=0)   # 열 우선 계산\n",
    "df = df.div(df['C'], axis=0)\n",
    "\n",
    "df.to_csv('test.csv')\n",
    "df.head()"
   ]
  }
 ],
 "metadata": {
  "kernelspec": {
   "display_name": "Python 3",
   "language": "python",
   "name": "python3"
  },
  "language_info": {
   "codemirror_mode": {
    "name": "ipython",
    "version": 3
   },
   "file_extension": ".py",
   "mimetype": "text/x-python",
   "name": "python",
   "nbconvert_exporter": "python",
   "pygments_lexer": "ipython3",
   "version": "3.8.5"
  }
 },
 "nbformat": 4,
 "nbformat_minor": 4
}
